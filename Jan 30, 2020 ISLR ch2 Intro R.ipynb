{
 "cells": [
  {
   "cell_type": "markdown",
   "metadata": {},
   "source": [
    "---\n",
    "# Jan 30, 2020 ISLR ch2 Intro R\n",
    "* Name: Jikhan Jeong\n",
    "* Ref: https://github.com/rghan/ISLR/blob/master/ISLR02.R\n",
    "---"
   ]
  },
  {
   "cell_type": "code",
   "execution_count": 3,
   "metadata": {},
   "outputs": [
    {
     "name": "stdout",
     "output_type": "stream",
     "text": [
      "[1] 1 3 2 5\n"
     ]
    }
   ],
   "source": [
    "x <- c(1 ,3 ,2 ,5)\n",
    "print(x)"
   ]
  },
  {
   "cell_type": "code",
   "execution_count": 4,
   "metadata": {},
   "outputs": [],
   "source": [
    "x = c(1 ,6 ,2)\n",
    "y = c(1 ,4 ,3)"
   ]
  },
  {
   "cell_type": "code",
   "execution_count": 7,
   "metadata": {},
   "outputs": [
    {
     "name": "stdout",
     "output_type": "stream",
     "text": [
      "[1]  2 10  5\n"
     ]
    }
   ],
   "source": [
    "print(x+y)"
   ]
  },
  {
   "cell_type": "code",
   "execution_count": 6,
   "metadata": {},
   "outputs": [
    {
     "data": {
      "text/html": [
       "3"
      ],
      "text/latex": [
       "3"
      ],
      "text/markdown": [
       "3"
      ],
      "text/plain": [
       "[1] 3"
      ]
     },
     "metadata": {},
     "output_type": "display_data"
    },
    {
     "data": {
      "text/html": [
       "3"
      ],
      "text/latex": [
       "3"
      ],
      "text/markdown": [
       "3"
      ],
      "text/plain": [
       "[1] 3"
      ]
     },
     "metadata": {},
     "output_type": "display_data"
    }
   ],
   "source": [
    "length(x)\n",
    "length(y)"
   ]
  },
  {
   "cell_type": "markdown",
   "metadata": {},
   "source": [
    "### The ls() function allows us to look at a list of all of the objects"
   ]
  },
  {
   "cell_type": "code",
   "execution_count": 10,
   "metadata": {},
   "outputs": [
    {
     "name": "stdout",
     "output_type": "stream",
     "text": [
      "[1] \"x\" \"y\"\n"
     ]
    }
   ],
   "source": [
    "print(ls())"
   ]
  },
  {
   "cell_type": "code",
   "execution_count": 11,
   "metadata": {},
   "outputs": [],
   "source": [
    "rm(x,y)"
   ]
  },
  {
   "cell_type": "code",
   "execution_count": 12,
   "metadata": {},
   "outputs": [
    {
     "data": {
      "text/html": [],
      "text/latex": [],
      "text/markdown": [],
      "text/plain": [
       "character(0)"
      ]
     },
     "metadata": {},
     "output_type": "display_data"
    }
   ],
   "source": [
    "ls()"
   ]
  },
  {
   "cell_type": "code",
   "execution_count": 14,
   "metadata": {},
   "outputs": [],
   "source": [
    "# Remove all objects at once:\n",
    "rm(list=ls())"
   ]
  },
  {
   "cell_type": "code",
   "execution_count": 15,
   "metadata": {},
   "outputs": [
    {
     "data": {
      "text/html": [
       "\n",
       "<table width=\"100%\" summary=\"page for matrix {base}\"><tr><td>matrix {base}</td><td style=\"text-align: right;\">R Documentation</td></tr></table>\n",
       "\n",
       "<h2>Matrices</h2>\n",
       "\n",
       "<h3>Description</h3>\n",
       "\n",
       "<p><code>matrix</code> creates a matrix from the given set of values.\n",
       "</p>\n",
       "<p><code>as.matrix</code> attempts to turn its argument into a matrix.\n",
       "</p>\n",
       "<p><code>is.matrix</code> tests if its argument is a (strict) matrix.\n",
       "</p>\n",
       "\n",
       "\n",
       "<h3>Usage</h3>\n",
       "\n",
       "<pre>\n",
       "matrix(data = NA, nrow = 1, ncol = 1, byrow = FALSE,\n",
       "       dimnames = NULL)\n",
       "\n",
       "as.matrix(x, ...)\n",
       "## S3 method for class 'data.frame'\n",
       "as.matrix(x, rownames.force = NA, ...)\n",
       "\n",
       "is.matrix(x)\n",
       "</pre>\n",
       "\n",
       "\n",
       "<h3>Arguments</h3>\n",
       "\n",
       "<table summary=\"R argblock\">\n",
       "<tr valign=\"top\"><td><code>data</code></td>\n",
       "<td>\n",
       "<p>an optional data vector (including a list or\n",
       "<code>expression</code> vector).  Non-atomic classed <span style=\"font-family: Courier New, Courier; color: #666666;\"><b>R</b></span> objects are\n",
       "coerced by <code>as.vector</code> and all attributes discarded.</p>\n",
       "</td></tr>\n",
       "<tr valign=\"top\"><td><code>nrow</code></td>\n",
       "<td>\n",
       "<p>the desired number of rows.</p>\n",
       "</td></tr>\n",
       "<tr valign=\"top\"><td><code>ncol</code></td>\n",
       "<td>\n",
       "<p>the desired number of columns.</p>\n",
       "</td></tr>\n",
       "<tr valign=\"top\"><td><code>byrow</code></td>\n",
       "<td>\n",
       "<p>logical. If <code>FALSE</code> (the default) the matrix is\n",
       "filled by columns, otherwise the matrix is filled by rows.</p>\n",
       "</td></tr>\n",
       "<tr valign=\"top\"><td><code>dimnames</code></td>\n",
       "<td>\n",
       "<p>A <code>dimnames</code> attribute for the matrix:\n",
       "<code>NULL</code> or a <code>list</code> of length 2 giving the row and column\n",
       "names respectively.  An empty list is treated as <code>NULL</code>, and a\n",
       "list of length one as row names.  The list can be named, and the\n",
       "list names will be used as names for the dimensions.</p>\n",
       "</td></tr>\n",
       "<tr valign=\"top\"><td><code>x</code></td>\n",
       "<td>\n",
       "<p>an <span style=\"font-family: Courier New, Courier; color: #666666;\"><b>R</b></span> object.</p>\n",
       "</td></tr>\n",
       "<tr valign=\"top\"><td><code>...</code></td>\n",
       "<td>\n",
       "<p>additional arguments to be passed to or from methods.</p>\n",
       "</td></tr>\n",
       "<tr valign=\"top\"><td><code>rownames.force</code></td>\n",
       "<td>\n",
       "<p>logical indicating if the resulting matrix\n",
       "should have character (rather than <code>NULL</code>)\n",
       "<code>rownames</code>.  The default, <code>NA</code>, uses <code>NULL</code>\n",
       "rownames if the data frame has &lsquo;automatic&rsquo; row.names or for a\n",
       "zero-row data frame.</p>\n",
       "</td></tr>\n",
       "</table>\n",
       "\n",
       "\n",
       "<h3>Details</h3>\n",
       "\n",
       "<p>If one of <code>nrow</code> or <code>ncol</code> is not given, an attempt is\n",
       "made to infer it from the length of <code>data</code> and the other\n",
       "parameter.  If neither is given, a one-column matrix is returned.\n",
       "</p>\n",
       "<p>If there are too few elements in <code>data</code> to fill the matrix,\n",
       "then the elements in <code>data</code> are recycled.  If <code>data</code> has\n",
       "length zero, <code>NA</code> of an appropriate type is used for atomic\n",
       "vectors (<code>0</code> for raw vectors) and <code>NULL</code> for lists.\n",
       "</p>\n",
       "<p><code>is.matrix</code> returns <code>TRUE</code> if <code>x</code> is a vector and has a\n",
       "<code>\"dim\"</code> attribute of length 2 and <code>FALSE</code> otherwise.\n",
       "Note that a <code>data.frame</code> is <strong>not</strong> a matrix by this\n",
       "test.  The function is generic: you can write methods to handle\n",
       "specific classes of objects, see InternalMethods.\n",
       "</p>\n",
       "<p><code>as.matrix</code> is a generic function.  The method for data frames\n",
       "will return a character matrix if there is only atomic columns and any\n",
       "non-(numeric/logical/complex) column, applying <code>as.vector</code>\n",
       "to factors and <code>format</code> to other non-character columns.\n",
       "Otherwise, the usual coercion hierarchy (logical &lt; integer &lt; double &lt;\n",
       "complex) will be used, e.g., all-logical data frames will be coerced\n",
       "to a logical matrix, mixed logical-integer will give a integer matrix,\n",
       "etc.\n",
       "</p>\n",
       "<p>The default method for <code>as.matrix</code> calls <code>as.vector(x)</code>, and\n",
       "hence e.g. coerces factors to character vectors.\n",
       "</p>\n",
       "<p>When coercing a vector, it produces a one-column matrix, and\n",
       "promotes the names (if any) of the vector to the rownames of the matrix.\n",
       "</p>\n",
       "<p><code>is.matrix</code> is a primitive function.\n",
       "</p>\n",
       "<p>The <code>print</code> method for a matrix gives a rectangular layout with\n",
       "dimnames or indices.  For a list matrix, the entries of length not\n",
       "one are printed in  the form <span class=\"samp\">integer,7</span> indicating the type\n",
       "and length.\n",
       "</p>\n",
       "\n",
       "\n",
       "<h3>Note</h3>\n",
       "\n",
       "<p>If you just want to convert a vector to a matrix, something like\n",
       "</p>\n",
       "<pre>  dim(x) &lt;- c(nx, ny)\n",
       "  dimnames(x) &lt;- list(row_names, col_names)\n",
       "</pre>\n",
       "<p>will avoid duplicating <code>x</code>.\n",
       "</p>\n",
       "\n",
       "\n",
       "<h3>References</h3>\n",
       "\n",
       "<p>Becker, R. A., Chambers, J. M. and Wilks, A. R. (1988)\n",
       "<em>The New S Language</em>.\n",
       "Wadsworth &amp; Brooks/Cole.\n",
       "</p>\n",
       "\n",
       "\n",
       "<h3>See Also</h3>\n",
       "\n",
       "<p><code>data.matrix</code>, which attempts to convert to a numeric\n",
       "matrix.\n",
       "</p>\n",
       "<p>A matrix is the special case of a two-dimensional <code>array</code>.\n",
       "</p>\n",
       "\n",
       "\n",
       "<h3>Examples</h3>\n",
       "\n",
       "<pre>\n",
       "is.matrix(as.matrix(1:10))\n",
       "!is.matrix(warpbreaks)  # data.frame, NOT matrix!\n",
       "warpbreaks[1:10,]\n",
       "as.matrix(warpbreaks[1:10,])  # using as.matrix.data.frame(.) method\n",
       "\n",
       "## Example of setting row and column names\n",
       "mdat &lt;- matrix(c(1,2,3, 11,12,13), nrow = 2, ncol = 3, byrow = TRUE,\n",
       "               dimnames = list(c(\"row1\", \"row2\"),\n",
       "                               c(\"C.1\", \"C.2\", \"C.3\")))\n",
       "mdat\n",
       "</pre>\n",
       "\n",
       "<hr /><div style=\"text-align: center;\">[Package <em>base</em> version 3.6.1 ]</div>"
      ],
      "text/latex": [
       "\\inputencoding{utf8}\n",
       "\\HeaderA{matrix}{Matrices}{matrix}\n",
       "\\aliasA{as.matrix}{matrix}{as.matrix}\n",
       "\\methaliasA{as.matrix.data.frame}{matrix}{as.matrix.data.frame}\n",
       "\\methaliasA{as.matrix.default}{matrix}{as.matrix.default}\n",
       "\\aliasA{is.matrix}{matrix}{is.matrix}\n",
       "\\keyword{array}{matrix}\n",
       "\\keyword{algebra}{matrix}\n",
       "%\n",
       "\\begin{Description}\\relax\n",
       "\\code{matrix} creates a matrix from the given set of values.\n",
       "\n",
       "\\code{as.matrix} attempts to turn its argument into a matrix.\n",
       "\n",
       "\\code{is.matrix} tests if its argument is a (strict) matrix.\n",
       "\\end{Description}\n",
       "%\n",
       "\\begin{Usage}\n",
       "\\begin{verbatim}\n",
       "matrix(data = NA, nrow = 1, ncol = 1, byrow = FALSE,\n",
       "       dimnames = NULL)\n",
       "\n",
       "as.matrix(x, ...)\n",
       "## S3 method for class 'data.frame'\n",
       "as.matrix(x, rownames.force = NA, ...)\n",
       "\n",
       "is.matrix(x)\n",
       "\\end{verbatim}\n",
       "\\end{Usage}\n",
       "%\n",
       "\\begin{Arguments}\n",
       "\\begin{ldescription}\n",
       "\\item[\\code{data}] an optional data vector (including a list or\n",
       "\\code{\\LinkA{expression}{expression}} vector).  Non-atomic classed \\R{} objects are\n",
       "coerced by \\code{\\LinkA{as.vector}{as.vector}} and all attributes discarded.\n",
       "\\item[\\code{nrow}] the desired number of rows.\n",
       "\\item[\\code{ncol}] the desired number of columns.\n",
       "\\item[\\code{byrow}] logical. If \\code{FALSE} (the default) the matrix is\n",
       "filled by columns, otherwise the matrix is filled by rows.\n",
       "\\item[\\code{dimnames}] A \\code{\\LinkA{dimnames}{dimnames}} attribute for the matrix:\n",
       "\\code{NULL} or a \\code{list} of length 2 giving the row and column\n",
       "names respectively.  An empty list is treated as \\code{NULL}, and a\n",
       "list of length one as row names.  The list can be named, and the\n",
       "list names will be used as names for the dimensions.\n",
       "\\item[\\code{x}] an \\R{} object.\n",
       "\\item[\\code{...}] additional arguments to be passed to or from methods.\n",
       "\\item[\\code{rownames.force}] logical indicating if the resulting matrix\n",
       "should have character (rather than \\code{NULL})\n",
       "\\code{\\LinkA{rownames}{rownames}}.  The default, \\code{NA}, uses \\code{NULL}\n",
       "rownames if the data frame has `automatic' row.names or for a\n",
       "zero-row data frame.\n",
       "\\end{ldescription}\n",
       "\\end{Arguments}\n",
       "%\n",
       "\\begin{Details}\\relax\n",
       "If one of \\code{nrow} or \\code{ncol} is not given, an attempt is\n",
       "made to infer it from the length of \\code{data} and the other\n",
       "parameter.  If neither is given, a one-column matrix is returned.\n",
       "\n",
       "If there are too few elements in \\code{data} to fill the matrix,\n",
       "then the elements in \\code{data} are recycled.  If \\code{data} has\n",
       "length zero, \\code{NA} of an appropriate type is used for atomic\n",
       "vectors (\\code{0} for raw vectors) and \\code{NULL} for lists.\n",
       "\n",
       "\\code{is.matrix} returns \\code{TRUE} if \\code{x} is a vector and has a\n",
       "\\code{\"\\LinkA{dim}{dim}\"} attribute of length 2 and \\code{FALSE} otherwise.\n",
       "Note that a \\code{\\LinkA{data.frame}{data.frame}} is \\strong{not} a matrix by this\n",
       "test.  The function is generic: you can write methods to handle\n",
       "specific classes of objects, see \\LinkA{InternalMethods}{InternalMethods}.\n",
       "\n",
       "\\code{as.matrix} is a generic function.  The method for data frames\n",
       "will return a character matrix if there is only atomic columns and any\n",
       "non-(numeric/logical/complex) column, applying \\code{\\LinkA{as.vector}{as.vector}}\n",
       "to factors and \\code{\\LinkA{format}{format}} to other non-character columns.\n",
       "Otherwise, the usual coercion hierarchy (logical < integer < double <\n",
       "complex) will be used, e.g., all-logical data frames will be coerced\n",
       "to a logical matrix, mixed logical-integer will give a integer matrix,\n",
       "etc.\n",
       "\n",
       "The default method for \\code{as.matrix} calls \\code{as.vector(x)}, and\n",
       "hence e.g.~coerces factors to character vectors.\n",
       "\n",
       "When coercing a vector, it produces a one-column matrix, and\n",
       "promotes the names (if any) of the vector to the rownames of the matrix.\n",
       "\n",
       "\\code{is.matrix} is a \\LinkA{primitive}{primitive} function.\n",
       "\n",
       "The \\code{print} method for a matrix gives a rectangular layout with\n",
       "dimnames or indices.  For a list matrix, the entries of length not\n",
       "one are printed in  the form \\samp{integer,7} indicating the type\n",
       "and length.\n",
       "\\end{Details}\n",
       "%\n",
       "\\begin{Note}\\relax\n",
       "If you just want to convert a vector to a matrix, something like\n",
       "\\begin{alltt}  dim(x) <- c(nx, ny)\n",
       "  dimnames(x) <- list(row_names, col_names)\n",
       "\\end{alltt}\n",
       "\n",
       "will avoid duplicating \\code{x}.\n",
       "\\end{Note}\n",
       "%\n",
       "\\begin{References}\\relax\n",
       "Becker, R. A., Chambers, J. M. and Wilks, A. R. (1988)\n",
       "\\emph{The New S Language}.\n",
       "Wadsworth \\& Brooks/Cole.\n",
       "\\end{References}\n",
       "%\n",
       "\\begin{SeeAlso}\\relax\n",
       "\\code{\\LinkA{data.matrix}{data.matrix}}, which attempts to convert to a numeric\n",
       "matrix.\n",
       "\n",
       "A matrix is the special case of a two-dimensional \\code{\\LinkA{array}{array}}.\n",
       "\\end{SeeAlso}\n",
       "%\n",
       "\\begin{Examples}\n",
       "\\begin{ExampleCode}\n",
       "is.matrix(as.matrix(1:10))\n",
       "!is.matrix(warpbreaks)  # data.frame, NOT matrix!\n",
       "warpbreaks[1:10,]\n",
       "as.matrix(warpbreaks[1:10,])  # using as.matrix.data.frame(.) method\n",
       "\n",
       "## Example of setting row and column names\n",
       "mdat <- matrix(c(1,2,3, 11,12,13), nrow = 2, ncol = 3, byrow = TRUE,\n",
       "               dimnames = list(c(\"row1\", \"row2\"),\n",
       "                               c(\"C.1\", \"C.2\", \"C.3\")))\n",
       "mdat\n",
       "\\end{ExampleCode}\n",
       "\\end{Examples}"
      ],
      "text/plain": [
       "matrix                  package:base                   R Documentation\n",
       "\n",
       "_\bM_\ba_\bt_\br_\bi_\bc_\be_\bs\n",
       "\n",
       "_\bD_\be_\bs_\bc_\br_\bi_\bp_\bt_\bi_\bo_\bn:\n",
       "\n",
       "     ‘matrix’ creates a matrix from the given set of values.\n",
       "\n",
       "     ‘as.matrix’ attempts to turn its argument into a matrix.\n",
       "\n",
       "     ‘is.matrix’ tests if its argument is a (strict) matrix.\n",
       "\n",
       "_\bU_\bs_\ba_\bg_\be:\n",
       "\n",
       "     matrix(data = NA, nrow = 1, ncol = 1, byrow = FALSE,\n",
       "            dimnames = NULL)\n",
       "     \n",
       "     as.matrix(x, ...)\n",
       "     ## S3 method for class 'data.frame'\n",
       "     as.matrix(x, rownames.force = NA, ...)\n",
       "     \n",
       "     is.matrix(x)\n",
       "     \n",
       "_\bA_\br_\bg_\bu_\bm_\be_\bn_\bt_\bs:\n",
       "\n",
       "    data: an optional data vector (including a list or ‘expression’\n",
       "          vector).  Non-atomic classed R objects are coerced by\n",
       "          ‘as.vector’ and all attributes discarded.\n",
       "\n",
       "    nrow: the desired number of rows.\n",
       "\n",
       "    ncol: the desired number of columns.\n",
       "\n",
       "   byrow: logical. If ‘FALSE’ (the default) the matrix is filled by\n",
       "          columns, otherwise the matrix is filled by rows.\n",
       "\n",
       "dimnames: A ‘dimnames’ attribute for the matrix: ‘NULL’ or a ‘list’ of\n",
       "          length 2 giving the row and column names respectively.  An\n",
       "          empty list is treated as ‘NULL’, and a list of length one as\n",
       "          row names.  The list can be named, and the list names will be\n",
       "          used as names for the dimensions.\n",
       "\n",
       "       x: an R object.\n",
       "\n",
       "     ...: additional arguments to be passed to or from methods.\n",
       "\n",
       "rownames.force: logical indicating if the resulting matrix should have\n",
       "          character (rather than ‘NULL’) ‘rownames’.  The default,\n",
       "          ‘NA’, uses ‘NULL’ rownames if the data frame has ‘automatic’\n",
       "          row.names or for a zero-row data frame.\n",
       "\n",
       "_\bD_\be_\bt_\ba_\bi_\bl_\bs:\n",
       "\n",
       "     If one of ‘nrow’ or ‘ncol’ is not given, an attempt is made to\n",
       "     infer it from the length of ‘data’ and the other parameter.  If\n",
       "     neither is given, a one-column matrix is returned.\n",
       "\n",
       "     If there are too few elements in ‘data’ to fill the matrix, then\n",
       "     the elements in ‘data’ are recycled.  If ‘data’ has length zero,\n",
       "     ‘NA’ of an appropriate type is used for atomic vectors (‘0’ for\n",
       "     raw vectors) and ‘NULL’ for lists.\n",
       "\n",
       "     ‘is.matrix’ returns ‘TRUE’ if ‘x’ is a vector and has a ‘\"dim\"’\n",
       "     attribute of length 2 and ‘FALSE’ otherwise.  Note that a\n",
       "     ‘data.frame’ is *not* a matrix by this test.  The function is\n",
       "     generic: you can write methods to handle specific classes of\n",
       "     objects, see InternalMethods.\n",
       "\n",
       "     ‘as.matrix’ is a generic function.  The method for data frames\n",
       "     will return a character matrix if there is only atomic columns and\n",
       "     any non-(numeric/logical/complex) column, applying ‘as.vector’ to\n",
       "     factors and ‘format’ to other non-character columns.  Otherwise,\n",
       "     the usual coercion hierarchy (logical < integer < double <\n",
       "     complex) will be used, e.g., all-logical data frames will be\n",
       "     coerced to a logical matrix, mixed logical-integer will give a\n",
       "     integer matrix, etc.\n",
       "\n",
       "     The default method for ‘as.matrix’ calls ‘as.vector(x)’, and hence\n",
       "     e.g. coerces factors to character vectors.\n",
       "\n",
       "     When coercing a vector, it produces a one-column matrix, and\n",
       "     promotes the names (if any) of the vector to the rownames of the\n",
       "     matrix.\n",
       "\n",
       "     ‘is.matrix’ is a primitive function.\n",
       "\n",
       "     The ‘print’ method for a matrix gives a rectangular layout with\n",
       "     dimnames or indices.  For a list matrix, the entries of length not\n",
       "     one are printed in the form ‘integer,7’ indicating the type and\n",
       "     length.\n",
       "\n",
       "_\bN_\bo_\bt_\be:\n",
       "\n",
       "     If you just want to convert a vector to a matrix, something like\n",
       "     \n",
       "       dim(x) <- c(nx, ny)\n",
       "       dimnames(x) <- list(row_names, col_names)\n",
       "\n",
       "     will avoid duplicating ‘x’.\n",
       "\n",
       "_\bR_\be_\bf_\be_\br_\be_\bn_\bc_\be_\bs:\n",
       "\n",
       "     Becker, R. A., Chambers, J. M. and Wilks, A. R. (1988) _The New S\n",
       "     Language_.  Wadsworth & Brooks/Cole.\n",
       "\n",
       "_\bS_\be_\be _\bA_\bl_\bs_\bo:\n",
       "\n",
       "     ‘data.matrix’, which attempts to convert to a numeric matrix.\n",
       "\n",
       "     A matrix is the special case of a two-dimensional ‘array’.\n",
       "\n",
       "_\bE_\bx_\ba_\bm_\bp_\bl_\be_\bs:\n",
       "\n",
       "     is.matrix(as.matrix(1:10))\n",
       "     !is.matrix(warpbreaks)  # data.frame, NOT matrix!\n",
       "     warpbreaks[1:10,]\n",
       "     as.matrix(warpbreaks[1:10,])  # using as.matrix.data.frame(.) method\n",
       "     \n",
       "     ## Example of setting row and column names\n",
       "     mdat <- matrix(c(1,2,3, 11,12,13), nrow = 2, ncol = 3, byrow = TRUE,\n",
       "                    dimnames = list(c(\"row1\", \"row2\"),\n",
       "                                    c(\"C.1\", \"C.2\", \"C.3\")))\n",
       "     mdat\n",
       "     "
      ]
     },
     "metadata": {},
     "output_type": "display_data"
    }
   ],
   "source": [
    "?matrix"
   ]
  },
  {
   "cell_type": "code",
   "execution_count": 16,
   "metadata": {},
   "outputs": [
    {
     "data": {
      "text/html": [
       "<table>\n",
       "<tbody>\n",
       "\t<tr><td>1</td><td>3</td></tr>\n",
       "\t<tr><td>2</td><td>4</td></tr>\n",
       "</tbody>\n",
       "</table>\n"
      ],
      "text/latex": [
       "\\begin{tabular}{ll}\n",
       "\t 1 & 3\\\\\n",
       "\t 2 & 4\\\\\n",
       "\\end{tabular}\n"
      ],
      "text/markdown": [
       "\n",
       "| 1 | 3 |\n",
       "| 2 | 4 |\n",
       "\n"
      ],
      "text/plain": [
       "     [,1] [,2]\n",
       "[1,] 1    3   \n",
       "[2,] 2    4   "
      ]
     },
     "metadata": {},
     "output_type": "display_data"
    }
   ],
   "source": [
    "x = matrix(data = c(1:4), nrow=2, ncol=2)\n",
    "x"
   ]
  },
  {
   "cell_type": "code",
   "execution_count": 18,
   "metadata": {},
   "outputs": [
    {
     "data": {
      "text/html": [
       "<table>\n",
       "<tbody>\n",
       "\t<tr><td>1</td><td>2</td></tr>\n",
       "\t<tr><td>3</td><td>4</td></tr>\n",
       "</tbody>\n",
       "</table>\n"
      ],
      "text/latex": [
       "\\begin{tabular}{ll}\n",
       "\t 1 & 2\\\\\n",
       "\t 3 & 4\\\\\n",
       "\\end{tabular}\n"
      ],
      "text/markdown": [
       "\n",
       "| 1 | 2 |\n",
       "| 3 | 4 |\n",
       "\n"
      ],
      "text/plain": [
       "     [,1] [,2]\n",
       "[1,] 1    2   \n",
       "[2,] 3    4   "
      ]
     },
     "metadata": {},
     "output_type": "display_data"
    }
   ],
   "source": [
    "x = matrix(data = c(1:4), 2,2, TRUE)\n",
    "x"
   ]
  },
  {
   "cell_type": "code",
   "execution_count": 19,
   "metadata": {},
   "outputs": [
    {
     "data": {
      "text/html": [
       "<table>\n",
       "<tbody>\n",
       "\t<tr><td>1.000000</td><td>1.414214</td></tr>\n",
       "\t<tr><td>1.732051</td><td>2.000000</td></tr>\n",
       "</tbody>\n",
       "</table>\n"
      ],
      "text/latex": [
       "\\begin{tabular}{ll}\n",
       "\t 1.000000 & 1.414214\\\\\n",
       "\t 1.732051 & 2.000000\\\\\n",
       "\\end{tabular}\n"
      ],
      "text/markdown": [
       "\n",
       "| 1.000000 | 1.414214 |\n",
       "| 1.732051 | 2.000000 |\n",
       "\n"
      ],
      "text/plain": [
       "     [,1]     [,2]    \n",
       "[1,] 1.000000 1.414214\n",
       "[2,] 1.732051 2.000000"
      ]
     },
     "metadata": {},
     "output_type": "display_data"
    }
   ],
   "source": [
    "sqrt(x)"
   ]
  },
  {
   "cell_type": "code",
   "execution_count": 20,
   "metadata": {},
   "outputs": [
    {
     "data": {
      "text/html": [
       "<table>\n",
       "<tbody>\n",
       "\t<tr><td>1 </td><td> 4</td></tr>\n",
       "\t<tr><td>9 </td><td>16</td></tr>\n",
       "</tbody>\n",
       "</table>\n"
      ],
      "text/latex": [
       "\\begin{tabular}{ll}\n",
       "\t 1  &  4\\\\\n",
       "\t 9  & 16\\\\\n",
       "\\end{tabular}\n"
      ],
      "text/markdown": [
       "\n",
       "| 1  |  4 |\n",
       "| 9  | 16 |\n",
       "\n"
      ],
      "text/plain": [
       "     [,1] [,2]\n",
       "[1,] 1     4  \n",
       "[2,] 9    16  "
      ]
     },
     "metadata": {},
     "output_type": "display_data"
    }
   ],
   "source": [
    "x^2"
   ]
  },
  {
   "cell_type": "code",
   "execution_count": 21,
   "metadata": {},
   "outputs": [
    {
     "data": {
      "text/html": [
       "0.994491929148476"
      ],
      "text/latex": [
       "0.994491929148476"
      ],
      "text/markdown": [
       "0.994491929148476"
      ],
      "text/plain": [
       "[1] 0.9944919"
      ]
     },
     "metadata": {},
     "output_type": "display_data"
    }
   ],
   "source": [
    "# The rnorm() function generates a vector of random normal variables\n",
    "x = rnorm(50)\n",
    "y = x+ rnorm(50, mean = 50, sd = .1)\n",
    "cor(x,y)"
   ]
  },
  {
   "cell_type": "code",
   "execution_count": 25,
   "metadata": {},
   "outputs": [
    {
     "name": "stdout",
     "output_type": "stream",
     "text": [
      " [1] -0.6264538  0.1836433 -0.8356286  1.5952808  0.3295078 -0.8204684\n",
      " [7]  0.4874291  0.7383247  0.5757814 -0.3053884\n"
     ]
    }
   ],
   "source": [
    "set.seed(1)\n",
    "print(rnorm(10))"
   ]
  },
  {
   "cell_type": "code",
   "execution_count": 29,
   "metadata": {},
   "outputs": [
    {
     "data": {
      "text/html": [
       "-0.0546042917190892"
      ],
      "text/latex": [
       "-0.0546042917190892"
      ],
      "text/markdown": [
       "-0.0546042917190892"
      ],
      "text/plain": [
       "[1] -0.05460429"
      ]
     },
     "metadata": {},
     "output_type": "display_data"
    },
    {
     "data": {
      "text/html": [
       "0.924419922150817"
      ],
      "text/latex": [
       "0.924419922150817"
      ],
      "text/markdown": [
       "0.924419922150817"
      ],
      "text/plain": [
       "[1] 0.9244199"
      ]
     },
     "metadata": {},
     "output_type": "display_data"
    },
    {
     "data": {
      "text/html": [
       "0.961467587675642"
      ],
      "text/latex": [
       "0.961467587675642"
      ],
      "text/markdown": [
       "0.961467587675642"
      ],
      "text/plain": [
       "[1] 0.9614676"
      ]
     },
     "metadata": {},
     "output_type": "display_data"
    }
   ],
   "source": [
    "mean(x)\n",
    "var(x)\n",
    "sd(x)"
   ]
  },
  {
   "cell_type": "markdown",
   "metadata": {},
   "source": [
    "# Plot"
   ]
  },
  {
   "cell_type": "code",
   "execution_count": 32,
   "metadata": {},
   "outputs": [
    {
     "data": {
      "image/png": "[encoded data removed]",
      "text/plain": [
       "Plot with title “ Plot of X vs Y”"
      ]
     },
     "metadata": {},
     "output_type": "display_data"
    }
   ],
   "source": [
    "x = rnorm(100)\n",
    "y = rnorm(100)\n",
    "plot(x,y, xlab =\" x- axis\", ylab =\" y-axis \",main =\" Plot of X vs Y\")"
   ]
  },
  {
   "cell_type": "code",
   "execution_count": 42,
   "metadata": {},
   "outputs": [
    {
     "name": "stdout",
     "output_type": "stream",
     "text": [
      " [1]  1  2  3  4  5  6  7  8  9 10\n"
     ]
    }
   ],
   "source": [
    "x =seq(1:10)\n",
    "print(x)"
   ]
  },
  {
   "cell_type": "code",
   "execution_count": 43,
   "metadata": {},
   "outputs": [],
   "source": [
    "y <- x\n",
    "f <- outer(x, y, function(x, y) cos(y)/(1 + x^2))"
   ]
  },
  {
   "cell_type": "code",
   "execution_count": 44,
   "metadata": {},
   "outputs": [
    {
     "data": {
      "image/png": "[encoded data removed]",
      "text/plain": [
       "plot without title"
      ]
     },
     "metadata": {},
     "output_type": "display_data"
    }
   ],
   "source": [
    "contour(x, y, f)"
   ]
  },
  {
   "cell_type": "markdown",
   "metadata": {},
   "source": [
    "# Indexing Data"
   ]
  },
  {
   "cell_type": "code",
   "execution_count": 47,
   "metadata": {},
   "outputs": [
    {
     "data": {
      "text/html": [
       "<table>\n",
       "<tbody>\n",
       "\t<tr><td>1 </td><td>5 </td><td> 9</td><td>13</td></tr>\n",
       "\t<tr><td>2 </td><td>6 </td><td>10</td><td>14</td></tr>\n",
       "\t<tr><td>3 </td><td>7 </td><td>11</td><td>15</td></tr>\n",
       "\t<tr><td>4 </td><td>8 </td><td>12</td><td>16</td></tr>\n",
       "</tbody>\n",
       "</table>\n"
      ],
      "text/latex": [
       "\\begin{tabular}{llll}\n",
       "\t 1  & 5  &  9 & 13\\\\\n",
       "\t 2  & 6  & 10 & 14\\\\\n",
       "\t 3  & 7  & 11 & 15\\\\\n",
       "\t 4  & 8  & 12 & 16\\\\\n",
       "\\end{tabular}\n"
      ],
      "text/markdown": [
       "\n",
       "| 1  | 5  |  9 | 13 |\n",
       "| 2  | 6  | 10 | 14 |\n",
       "| 3  | 7  | 11 | 15 |\n",
       "| 4  | 8  | 12 | 16 |\n",
       "\n"
      ],
      "text/plain": [
       "     [,1] [,2] [,3] [,4]\n",
       "[1,] 1    5     9   13  \n",
       "[2,] 2    6    10   14  \n",
       "[3,] 3    7    11   15  \n",
       "[4,] 4    8    12   16  "
      ]
     },
     "metadata": {},
     "output_type": "display_data"
    }
   ],
   "source": [
    "A= matrix (1:16 ,4 ,4)\n",
    "A"
   ]
  },
  {
   "cell_type": "code",
   "execution_count": 48,
   "metadata": {},
   "outputs": [
    {
     "data": {
      "text/html": [
       "10"
      ],
      "text/latex": [
       "10"
      ],
      "text/markdown": [
       "10"
      ],
      "text/plain": [
       "[1] 10"
      ]
     },
     "metadata": {},
     "output_type": "display_data"
    }
   ],
   "source": [
    "A[2 ,3]"
   ]
  },
  {
   "cell_type": "code",
   "execution_count": 49,
   "metadata": {},
   "outputs": [
    {
     "data": {
      "text/html": [
       "<table>\n",
       "<tbody>\n",
       "\t<tr><td>5 </td><td> 9</td><td>13</td></tr>\n",
       "\t<tr><td>6 </td><td>10</td><td>14</td></tr>\n",
       "\t<tr><td>7 </td><td>11</td><td>15</td></tr>\n",
       "</tbody>\n",
       "</table>\n"
      ],
      "text/latex": [
       "\\begin{tabular}{lll}\n",
       "\t 5  &  9 & 13\\\\\n",
       "\t 6  & 10 & 14\\\\\n",
       "\t 7  & 11 & 15\\\\\n",
       "\\end{tabular}\n"
      ],
      "text/markdown": [
       "\n",
       "| 5  |  9 | 13 |\n",
       "| 6  | 10 | 14 |\n",
       "| 7  | 11 | 15 |\n",
       "\n"
      ],
      "text/plain": [
       "     [,1] [,2] [,3]\n",
       "[1,] 5     9   13  \n",
       "[2,] 6    10   14  \n",
       "[3,] 7    11   15  "
      ]
     },
     "metadata": {},
     "output_type": "display_data"
    }
   ],
   "source": [
    "A [1:3 ,2:4]"
   ]
  },
  {
   "cell_type": "code",
   "execution_count": 51,
   "metadata": {},
   "outputs": [
    {
     "name": "stdout",
     "output_type": "stream",
     "text": [
      "[1] 4 4\n"
     ]
    }
   ],
   "source": [
    "print(dim (A))"
   ]
  },
  {
   "cell_type": "markdown",
   "metadata": {},
   "source": [
    "# Loading Data\n",
    "* read.table() function is one of the primary ways to do this. \n",
    "* write.table() to export data"
   ]
  },
  {
   "cell_type": "code",
   "execution_count": 90,
   "metadata": {},
   "outputs": [],
   "source": [
    "install.packages(\"ISLR\", lib = \"/home/jikhan.jeong/lib/R_libs\") "
   ]
  },
  {
   "cell_type": "code",
   "execution_count": 91,
   "metadata": {},
   "outputs": [],
   "source": [
    "library(ISLR)"
   ]
  },
  {
   "cell_type": "code",
   "execution_count": 93,
   "metadata": {},
   "outputs": [
    {
     "name": "stderr",
     "output_type": "stream",
     "text": [
      "Warning message in head(Auto):\n",
      "“restarting interrupted promise evaluation”Warning message in head(Auto):\n",
      "“internal error -5 in R_decompress1”"
     ]
    },
    {
     "ename": "ERROR",
     "evalue": "Error in head(Auto): lazy-load database '/home/jikhan.jeong/lib/R_libs/ISLR/data/Rdata.rdb' is corrupt\n",
     "output_type": "error",
     "traceback": [
      "Error in head(Auto): lazy-load database '/home/jikhan.jeong/lib/R_libs/ISLR/data/Rdata.rdb' is corrupt\nTraceback:\n",
      "1. head(Auto)"
     ]
    }
   ],
   "source": [
    "head(Auto)"
   ]
  },
  {
   "cell_type": "code",
   "execution_count": 75,
   "metadata": {},
   "outputs": [
    {
     "data": {
      "text/html": [
       "'/data/cahnrs/jikhan.jeong/r kernel'"
      ],
      "text/latex": [
       "'/data/cahnrs/jikhan.jeong/r kernel'"
      ],
      "text/markdown": [
       "'/data/cahnrs/jikhan.jeong/r kernel'"
      ],
      "text/plain": [
       "[1] \"/data/cahnrs/jikhan.jeong/r kernel\""
      ]
     },
     "metadata": {},
     "output_type": "display_data"
    }
   ],
   "source": [
    "getwd()"
   ]
  },
  {
   "cell_type": "code",
   "execution_count": null,
   "metadata": {},
   "outputs": [],
   "source": []
  }
 ],
 "metadata": {
  "kernelspec": {
   "display_name": "R",
   "language": "R",
   "name": "ir"
  },
  "language_info": {
   "codemirror_mode": "r",
   "file_extension": ".r",
   "mimetype": "text/x-r-source",
   "name": "R",
   "pygments_lexer": "r",
   "version": "3.6.1"
  }
 },
 "nbformat": 4,
 "nbformat_minor": 4
}
